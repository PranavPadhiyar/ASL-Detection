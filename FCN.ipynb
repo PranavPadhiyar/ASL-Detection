{
 "cells": [
  {
   "cell_type": "code",
   "execution_count": 1,
   "id": "35db362f",
   "metadata": {},
   "outputs": [],
   "source": [
    "# Part 1 - Building the FCN\n",
    "#importing the Keras libraries and packages\n",
    "from keras.models import Sequential\n",
    "from keras.layers import Flatten\n",
    "from keras.layers import Dense, Dropout\n",
    "from keras import optimizers\n",
    "import tensorflow as tf"
   ]
  },
  {
   "cell_type": "code",
   "execution_count": 2,
   "id": "5896dbe1",
   "metadata": {},
   "outputs": [],
   "source": [
    "# Initialing the FCN\n",
    "classifier = Sequential()"
   ]
  },
  {
   "cell_type": "code",
   "execution_count": 3,
   "id": "35dfc22b",
   "metadata": {},
   "outputs": [],
   "source": [
    "# Step 1 - Creating model input\n",
    "classifier.add(tf.keras.Input(shape=(64, 64, 3)))"
   ]
  },
  {
   "cell_type": "code",
   "execution_count": 4,
   "id": "6319c526",
   "metadata": {},
   "outputs": [],
   "source": [
    "#Step 2 - Flattening\n",
    "classifier.add(Flatten())\n"
   ]
  },
  {
   "cell_type": "code",
   "execution_count": 5,
   "id": "a40715c1",
   "metadata": {},
   "outputs": [],
   "source": [
    "#Step 4 - Full Connection\n",
    "\n",
    "classifier.add(Dense(512, activation = 'relu'))\n",
    "classifier.add(Dropout(0.4))\n",
    "classifier.add(Dense(512, activation = 'relu'))\n",
    "classifier.add(Dropout(0.4))\n",
    "classifier.add(Dense(256, activation = 'relu'))\n",
    "#classifier.add(Dropout(0.3))\n",
    "classifier.add(Dense(24, activation = 'softmax'))"
   ]
  },
  {
   "cell_type": "code",
   "execution_count": 6,
   "id": "20ca7fc1",
   "metadata": {},
   "outputs": [
    {
     "name": "stderr",
     "output_type": "stream",
     "text": [
      "C:\\Users\\shalm\\aasd4011-winter-2023\\venv\\tensorflow_cpu\\lib\\site-packages\\keras\\optimizers\\optimizer_v2\\adam.py:117: UserWarning: The `lr` argument is deprecated, use `learning_rate` instead.\n",
      "  super().__init__(name, **kwargs)\n"
     ]
    }
   ],
   "source": [
    "#Compiling The Designed FCNN model\n",
    "classifier.compile(\n",
    "              optimizer = optimizers.Adam(lr = 0.00001),\n",
    "              loss = 'categorical_crossentropy',\n",
    "              metrics = ['accuracy'])\n"
   ]
  },
  {
   "cell_type": "code",
   "execution_count": 7,
   "id": "8f7ecfc2",
   "metadata": {},
   "outputs": [],
   "source": [
    "#Part 2 Fittting the FCNN to the dataset\n",
    "from keras.preprocessing.image import ImageDataGenerator\n",
    "train_datagen = ImageDataGenerator(\n",
    "        rescale=1./255,\n",
    "        shear_range=0.2,\n",
    "        zoom_range=0.2)\n",
    "val_datagen = ImageDataGenerator(rescale=1./255)\n",
    "\n"
   ]
  },
  {
   "cell_type": "code",
   "execution_count": 8,
   "id": "2b25a629",
   "metadata": {},
   "outputs": [
    {
     "name": "stdout",
     "output_type": "stream",
     "text": [
      "Found 7487 images belonging to 24 classes.\n"
     ]
    }
   ],
   "source": [
    "training_set = train_datagen.flow_from_directory(\n",
    "        'C:/Users/shalm/Desktop/DL2/DatasetFinalPranavAmin/training_set/',\n",
    "        target_size=(64, 64),\n",
    "        batch_size=32,\n",
    "        class_mode='categorical')\n"
   ]
  },
  {
   "cell_type": "code",
   "execution_count": 9,
   "id": "910542a1",
   "metadata": {},
   "outputs": [
    {
     "name": "stdout",
     "output_type": "stream",
     "text": [
      "Found 2140 images belonging to 24 classes.\n"
     ]
    }
   ],
   "source": [
    "validation_set = val_datagen.flow_from_directory(\n",
    "        'C:/Users/shalm/Desktop/DL2/DatasetFinalPranavAmin/validation_set/',\n",
    "        target_size=(64, 64),\n",
    "        batch_size=32,\n",
    "        class_mode='categorical')\n"
   ]
  },
  {
   "cell_type": "code",
   "execution_count": 15,
   "id": "1eacd1b9",
   "metadata": {
    "scrolled": true
   },
   "outputs": [
    {
     "name": "stdout",
     "output_type": "stream",
     "text": [
      "Epoch 1/120\n",
      "  2/234 [..............................] - ETA: 11s - loss: 0.2417 - accuracy: 0.9062"
     ]
    },
    {
     "name": "stderr",
     "output_type": "stream",
     "text": [
      "C:\\Users\\shalm\\AppData\\Local\\Temp\\ipykernel_30596\\1346376570.py:1: UserWarning: `Model.fit_generator` is deprecated and will be removed in a future version. Please use `Model.fit`, which supports generators.\n",
      "  model = classifier.fit_generator(\n"
     ]
    },
    {
     "name": "stdout",
     "output_type": "stream",
     "text": [
      "234/234 [==============================] - 10s 44ms/step - loss: 0.1859 - accuracy: 0.9496 - val_loss: 0.6742 - val_accuracy: 0.8061\n",
      "Epoch 2/120\n",
      "234/234 [==============================] - 10s 44ms/step - loss: 0.1801 - accuracy: 0.9491 - val_loss: 0.6604 - val_accuracy: 0.8070\n",
      "Epoch 3/120\n",
      "234/234 [==============================] - 10s 44ms/step - loss: 0.1708 - accuracy: 0.9515 - val_loss: 0.6644 - val_accuracy: 0.8112\n",
      "Epoch 4/120\n",
      "234/234 [==============================] - 10s 44ms/step - loss: 0.1681 - accuracy: 0.9504 - val_loss: 0.6886 - val_accuracy: 0.8033\n",
      "Epoch 5/120\n",
      "234/234 [==============================] - 10s 44ms/step - loss: 0.1620 - accuracy: 0.9545 - val_loss: 0.6685 - val_accuracy: 0.8089\n",
      "Epoch 6/120\n",
      "234/234 [==============================] - 10s 44ms/step - loss: 0.1569 - accuracy: 0.9541 - val_loss: 0.6662 - val_accuracy: 0.8070\n",
      "Epoch 7/120\n",
      "234/234 [==============================] - 10s 44ms/step - loss: 0.1590 - accuracy: 0.9550 - val_loss: 0.6788 - val_accuracy: 0.8061\n",
      "Epoch 8/120\n",
      "234/234 [==============================] - 10s 44ms/step - loss: 0.1556 - accuracy: 0.9546 - val_loss: 0.6941 - val_accuracy: 0.8107\n",
      "Epoch 9/120\n",
      "234/234 [==============================] - 10s 45ms/step - loss: 0.1461 - accuracy: 0.9602 - val_loss: 0.6651 - val_accuracy: 0.8187\n",
      "Epoch 10/120\n",
      "234/234 [==============================] - 11s 45ms/step - loss: 0.1432 - accuracy: 0.9601 - val_loss: 0.6634 - val_accuracy: 0.8187\n",
      "Epoch 11/120\n",
      "234/234 [==============================] - 10s 44ms/step - loss: 0.1437 - accuracy: 0.9601 - val_loss: 0.6646 - val_accuracy: 0.8145\n",
      "Epoch 12/120\n",
      "234/234 [==============================] - 11s 45ms/step - loss: 0.1374 - accuracy: 0.9606 - val_loss: 0.6420 - val_accuracy: 0.8220\n",
      "Epoch 13/120\n",
      "234/234 [==============================] - 10s 45ms/step - loss: 0.1276 - accuracy: 0.9638 - val_loss: 0.6453 - val_accuracy: 0.8266\n",
      "Epoch 14/120\n",
      "234/234 [==============================] - 10s 44ms/step - loss: 0.1333 - accuracy: 0.9602 - val_loss: 0.6666 - val_accuracy: 0.8187\n",
      "Epoch 15/120\n",
      "234/234 [==============================] - 11s 45ms/step - loss: 0.1255 - accuracy: 0.9639 - val_loss: 0.6667 - val_accuracy: 0.8182\n",
      "Epoch 16/120\n",
      "234/234 [==============================] - 10s 44ms/step - loss: 0.1209 - accuracy: 0.9641 - val_loss: 0.6633 - val_accuracy: 0.8121\n",
      "Epoch 17/120\n",
      "234/234 [==============================] - 11s 45ms/step - loss: 0.1110 - accuracy: 0.9671 - val_loss: 0.6871 - val_accuracy: 0.8140\n",
      "Epoch 18/120\n",
      "234/234 [==============================] - 10s 44ms/step - loss: 0.1135 - accuracy: 0.9678 - val_loss: 0.6600 - val_accuracy: 0.8187\n",
      "Epoch 19/120\n",
      "234/234 [==============================] - 10s 45ms/step - loss: 0.1142 - accuracy: 0.9697 - val_loss: 0.6987 - val_accuracy: 0.8075\n",
      "Epoch 20/120\n",
      "234/234 [==============================] - 11s 45ms/step - loss: 0.1165 - accuracy: 0.9675 - val_loss: 0.6594 - val_accuracy: 0.8266\n",
      "Epoch 21/120\n",
      "234/234 [==============================] - 11s 46ms/step - loss: 0.1100 - accuracy: 0.9690 - val_loss: 0.6589 - val_accuracy: 0.8234\n",
      "Epoch 22/120\n",
      "234/234 [==============================] - 10s 45ms/step - loss: 0.1097 - accuracy: 0.9675 - val_loss: 0.6347 - val_accuracy: 0.8290\n",
      "Epoch 23/120\n",
      "234/234 [==============================] - 11s 45ms/step - loss: 0.0950 - accuracy: 0.9741 - val_loss: 0.6570 - val_accuracy: 0.8262\n",
      "Epoch 24/120\n",
      "234/234 [==============================] - 10s 45ms/step - loss: 0.1028 - accuracy: 0.9691 - val_loss: 0.6529 - val_accuracy: 0.8290\n",
      "Epoch 25/120\n",
      "234/234 [==============================] - 11s 45ms/step - loss: 0.1016 - accuracy: 0.9693 - val_loss: 0.6647 - val_accuracy: 0.8262\n",
      "Epoch 26/120\n",
      "234/234 [==============================] - 11s 45ms/step - loss: 0.1004 - accuracy: 0.9714 - val_loss: 0.6540 - val_accuracy: 0.8243\n",
      "Epoch 27/120\n",
      "234/234 [==============================] - 10s 44ms/step - loss: 0.1018 - accuracy: 0.9707 - val_loss: 0.6780 - val_accuracy: 0.8280\n",
      "Epoch 28/120\n",
      "234/234 [==============================] - 10s 44ms/step - loss: 0.0873 - accuracy: 0.9762 - val_loss: 0.6919 - val_accuracy: 0.8136\n",
      "Epoch 29/120\n",
      "234/234 [==============================] - 11s 45ms/step - loss: 0.0898 - accuracy: 0.9721 - val_loss: 0.6779 - val_accuracy: 0.8243\n",
      "Epoch 30/120\n",
      "234/234 [==============================] - 10s 44ms/step - loss: 0.0923 - accuracy: 0.9737 - val_loss: 0.7144 - val_accuracy: 0.8145\n",
      "Epoch 31/120\n",
      "234/234 [==============================] - 11s 45ms/step - loss: 0.0874 - accuracy: 0.9738 - val_loss: 0.6791 - val_accuracy: 0.8098\n",
      "Epoch 32/120\n",
      "234/234 [==============================] - 11s 46ms/step - loss: 0.0876 - accuracy: 0.9749 - val_loss: 0.6293 - val_accuracy: 0.8327\n",
      "Epoch 33/120\n",
      "234/234 [==============================] - 11s 45ms/step - loss: 0.0876 - accuracy: 0.9758 - val_loss: 0.6730 - val_accuracy: 0.8187\n",
      "Epoch 34/120\n",
      "234/234 [==============================] - 11s 45ms/step - loss: 0.0820 - accuracy: 0.9776 - val_loss: 0.6964 - val_accuracy: 0.8206\n",
      "Epoch 35/120\n",
      "234/234 [==============================] - 11s 45ms/step - loss: 0.0832 - accuracy: 0.9777 - val_loss: 0.6799 - val_accuracy: 0.8182\n",
      "Epoch 36/120\n",
      "234/234 [==============================] - 10s 45ms/step - loss: 0.0838 - accuracy: 0.9765 - val_loss: 0.6390 - val_accuracy: 0.8383\n",
      "Epoch 37/120\n",
      "234/234 [==============================] - 11s 45ms/step - loss: 0.0782 - accuracy: 0.9772 - val_loss: 0.6631 - val_accuracy: 0.8313\n",
      "Epoch 38/120\n",
      "234/234 [==============================] - 10s 45ms/step - loss: 0.0755 - accuracy: 0.9770 - val_loss: 0.6784 - val_accuracy: 0.8266\n",
      "Epoch 39/120\n",
      "234/234 [==============================] - 11s 45ms/step - loss: 0.0784 - accuracy: 0.9788 - val_loss: 0.6892 - val_accuracy: 0.8257\n",
      "Epoch 40/120\n",
      "234/234 [==============================] - 11s 45ms/step - loss: 0.0726 - accuracy: 0.9792 - val_loss: 0.6988 - val_accuracy: 0.8234\n",
      "Epoch 41/120\n",
      "234/234 [==============================] - 11s 45ms/step - loss: 0.0660 - accuracy: 0.9826 - val_loss: 0.6922 - val_accuracy: 0.8248\n",
      "Epoch 42/120\n",
      "234/234 [==============================] - 11s 45ms/step - loss: 0.0747 - accuracy: 0.9788 - val_loss: 0.6572 - val_accuracy: 0.8346\n",
      "Epoch 43/120\n",
      "234/234 [==============================] - 11s 45ms/step - loss: 0.0748 - accuracy: 0.9786 - val_loss: 0.6560 - val_accuracy: 0.8290\n",
      "Epoch 44/120\n",
      "234/234 [==============================] - 12s 51ms/step - loss: 0.0683 - accuracy: 0.9812 - val_loss: 0.6818 - val_accuracy: 0.8280\n",
      "Epoch 45/120\n",
      "234/234 [==============================] - 11s 48ms/step - loss: 0.0659 - accuracy: 0.9812 - val_loss: 0.6533 - val_accuracy: 0.8402\n",
      "Epoch 46/120\n",
      "234/234 [==============================] - 11s 46ms/step - loss: 0.0662 - accuracy: 0.9812 - val_loss: 0.6694 - val_accuracy: 0.8271\n",
      "Epoch 47/120\n",
      "234/234 [==============================] - 11s 45ms/step - loss: 0.0666 - accuracy: 0.9796 - val_loss: 0.6836 - val_accuracy: 0.8238\n",
      "Epoch 48/120\n",
      "234/234 [==============================] - 10s 45ms/step - loss: 0.0673 - accuracy: 0.9821 - val_loss: 0.6841 - val_accuracy: 0.8350\n",
      "Epoch 49/120\n",
      "234/234 [==============================] - 11s 46ms/step - loss: 0.0647 - accuracy: 0.9810 - val_loss: 0.6554 - val_accuracy: 0.8336\n",
      "Epoch 50/120\n",
      "234/234 [==============================] - 10s 45ms/step - loss: 0.0648 - accuracy: 0.9818 - val_loss: 0.6491 - val_accuracy: 0.8397\n",
      "Epoch 51/120\n",
      "234/234 [==============================] - 10s 45ms/step - loss: 0.0643 - accuracy: 0.9826 - val_loss: 0.6449 - val_accuracy: 0.8458\n",
      "Epoch 52/120\n",
      "234/234 [==============================] - 11s 45ms/step - loss: 0.0618 - accuracy: 0.9810 - val_loss: 0.6628 - val_accuracy: 0.8299\n",
      "Epoch 53/120\n",
      "234/234 [==============================] - 10s 45ms/step - loss: 0.0551 - accuracy: 0.9862 - val_loss: 0.6634 - val_accuracy: 0.8313\n",
      "Epoch 54/120\n",
      "234/234 [==============================] - 11s 46ms/step - loss: 0.0554 - accuracy: 0.9836 - val_loss: 0.6711 - val_accuracy: 0.8341\n",
      "Epoch 55/120\n",
      "234/234 [==============================] - 11s 46ms/step - loss: 0.0611 - accuracy: 0.9836 - val_loss: 0.6868 - val_accuracy: 0.8341\n",
      "Epoch 56/120\n",
      "234/234 [==============================] - 11s 45ms/step - loss: 0.0612 - accuracy: 0.9824 - val_loss: 0.6779 - val_accuracy: 0.8355\n",
      "Epoch 57/120\n",
      "234/234 [==============================] - 10s 44ms/step - loss: 0.0527 - accuracy: 0.9857 - val_loss: 0.7213 - val_accuracy: 0.8322\n",
      "Epoch 58/120\n",
      "234/234 [==============================] - 11s 45ms/step - loss: 0.0563 - accuracy: 0.9830 - val_loss: 0.6987 - val_accuracy: 0.8276\n",
      "Epoch 59/120\n",
      "234/234 [==============================] - 11s 46ms/step - loss: 0.0544 - accuracy: 0.9849 - val_loss: 0.7062 - val_accuracy: 0.8350\n",
      "Epoch 60/120\n",
      "234/234 [==============================] - 11s 46ms/step - loss: 0.0539 - accuracy: 0.9850 - val_loss: 0.7399 - val_accuracy: 0.8192\n",
      "Epoch 61/120\n",
      "234/234 [==============================] - 11s 45ms/step - loss: 0.0521 - accuracy: 0.9848 - val_loss: 0.6884 - val_accuracy: 0.8383\n",
      "Epoch 62/120\n",
      "234/234 [==============================] - 10s 45ms/step - loss: 0.0521 - accuracy: 0.9864 - val_loss: 0.7081 - val_accuracy: 0.8262\n",
      "Epoch 63/120\n",
      "234/234 [==============================] - 11s 45ms/step - loss: 0.0482 - accuracy: 0.9882 - val_loss: 0.7255 - val_accuracy: 0.8383\n",
      "Epoch 64/120\n",
      "234/234 [==============================] - 10s 45ms/step - loss: 0.0494 - accuracy: 0.9868 - val_loss: 0.7077 - val_accuracy: 0.8290\n",
      "Epoch 65/120\n",
      "234/234 [==============================] - 10s 45ms/step - loss: 0.0524 - accuracy: 0.9848 - val_loss: 0.7095 - val_accuracy: 0.8313\n",
      "Epoch 66/120\n",
      "234/234 [==============================] - 10s 45ms/step - loss: 0.0475 - accuracy: 0.9864 - val_loss: 0.6939 - val_accuracy: 0.8360\n",
      "Epoch 67/120\n",
      "234/234 [==============================] - 10s 45ms/step - loss: 0.0505 - accuracy: 0.9868 - val_loss: 0.6709 - val_accuracy: 0.8430\n",
      "Epoch 68/120\n",
      "234/234 [==============================] - 10s 44ms/step - loss: 0.0557 - accuracy: 0.9842 - val_loss: 0.6478 - val_accuracy: 0.8453\n",
      "Epoch 69/120\n",
      "234/234 [==============================] - 10s 45ms/step - loss: 0.0441 - accuracy: 0.9877 - val_loss: 0.6704 - val_accuracy: 0.8407\n",
      "Epoch 70/120\n",
      "234/234 [==============================] - 10s 45ms/step - loss: 0.0496 - accuracy: 0.9864 - val_loss: 0.6617 - val_accuracy: 0.8411\n",
      "Epoch 71/120\n",
      "234/234 [==============================] - 10s 44ms/step - loss: 0.0381 - accuracy: 0.9907 - val_loss: 0.6805 - val_accuracy: 0.8430\n",
      "Epoch 72/120\n",
      "234/234 [==============================] - 10s 44ms/step - loss: 0.0434 - accuracy: 0.9890 - val_loss: 0.7101 - val_accuracy: 0.8332\n",
      "Epoch 73/120\n",
      "234/234 [==============================] - 10s 44ms/step - loss: 0.0524 - accuracy: 0.9840 - val_loss: 0.6843 - val_accuracy: 0.8379\n",
      "Epoch 74/120\n",
      "234/234 [==============================] - 10s 44ms/step - loss: 0.0442 - accuracy: 0.9872 - val_loss: 0.6963 - val_accuracy: 0.8290\n",
      "Epoch 75/120\n",
      "234/234 [==============================] - 10s 44ms/step - loss: 0.0389 - accuracy: 0.9898 - val_loss: 0.6838 - val_accuracy: 0.8346\n",
      "Epoch 76/120\n",
      "234/234 [==============================] - 10s 44ms/step - loss: 0.0375 - accuracy: 0.9893 - val_loss: 0.7086 - val_accuracy: 0.8308\n",
      "Epoch 77/120\n",
      "234/234 [==============================] - 10s 44ms/step - loss: 0.0407 - accuracy: 0.9890 - val_loss: 0.7129 - val_accuracy: 0.8322\n",
      "Epoch 78/120\n",
      "234/234 [==============================] - 10s 45ms/step - loss: 0.0432 - accuracy: 0.9878 - val_loss: 0.7051 - val_accuracy: 0.8299\n",
      "Epoch 79/120\n",
      "234/234 [==============================] - 10s 44ms/step - loss: 0.0411 - accuracy: 0.9893 - val_loss: 0.7080 - val_accuracy: 0.8318\n",
      "Epoch 80/120\n",
      "234/234 [==============================] - 11s 45ms/step - loss: 0.0390 - accuracy: 0.9896 - val_loss: 0.7219 - val_accuracy: 0.8308\n",
      "Epoch 81/120\n",
      "234/234 [==============================] - 10s 44ms/step - loss: 0.0360 - accuracy: 0.9898 - val_loss: 0.6914 - val_accuracy: 0.8449\n",
      "Epoch 82/120\n",
      "234/234 [==============================] - 10s 45ms/step - loss: 0.0406 - accuracy: 0.9868 - val_loss: 0.6990 - val_accuracy: 0.8407\n",
      "Epoch 83/120\n",
      "234/234 [==============================] - 10s 43ms/step - loss: 0.0381 - accuracy: 0.9884 - val_loss: 0.7430 - val_accuracy: 0.8308\n",
      "Epoch 84/120\n",
      "234/234 [==============================] - 10s 44ms/step - loss: 0.0384 - accuracy: 0.9890 - val_loss: 0.6893 - val_accuracy: 0.8397\n",
      "Epoch 85/120\n",
      "234/234 [==============================] - 10s 44ms/step - loss: 0.0410 - accuracy: 0.9880 - val_loss: 0.6925 - val_accuracy: 0.8435\n",
      "Epoch 86/120\n",
      "234/234 [==============================] - 10s 44ms/step - loss: 0.0382 - accuracy: 0.9896 - val_loss: 0.7060 - val_accuracy: 0.8322\n",
      "Epoch 87/120\n",
      "234/234 [==============================] - 10s 44ms/step - loss: 0.0362 - accuracy: 0.9898 - val_loss: 0.7095 - val_accuracy: 0.8383\n",
      "Epoch 88/120\n",
      "234/234 [==============================] - 11s 45ms/step - loss: 0.0383 - accuracy: 0.9897 - val_loss: 0.6784 - val_accuracy: 0.8379\n",
      "Epoch 89/120\n",
      "234/234 [==============================] - 10s 44ms/step - loss: 0.0352 - accuracy: 0.9911 - val_loss: 0.7118 - val_accuracy: 0.8313\n",
      "Epoch 90/120\n",
      "234/234 [==============================] - 10s 45ms/step - loss: 0.0358 - accuracy: 0.9901 - val_loss: 0.7009 - val_accuracy: 0.8308\n",
      "Epoch 91/120\n",
      "234/234 [==============================] - 10s 44ms/step - loss: 0.0318 - accuracy: 0.9921 - val_loss: 0.7072 - val_accuracy: 0.8304\n",
      "Epoch 92/120\n",
      "234/234 [==============================] - 10s 45ms/step - loss: 0.0335 - accuracy: 0.9904 - val_loss: 0.6602 - val_accuracy: 0.8449\n",
      "Epoch 93/120\n",
      "234/234 [==============================] - 10s 44ms/step - loss: 0.0344 - accuracy: 0.9912 - val_loss: 0.6843 - val_accuracy: 0.8369\n",
      "Epoch 94/120\n",
      "234/234 [==============================] - 10s 44ms/step - loss: 0.0329 - accuracy: 0.9904 - val_loss: 0.6840 - val_accuracy: 0.8360\n",
      "Epoch 95/120\n",
      "234/234 [==============================] - 10s 44ms/step - loss: 0.0312 - accuracy: 0.9907 - val_loss: 0.7001 - val_accuracy: 0.8341\n",
      "Epoch 96/120\n",
      "234/234 [==============================] - 10s 45ms/step - loss: 0.0298 - accuracy: 0.9927 - val_loss: 0.6980 - val_accuracy: 0.8350\n",
      "Epoch 97/120\n",
      "234/234 [==============================] - 10s 44ms/step - loss: 0.0296 - accuracy: 0.9923 - val_loss: 0.7191 - val_accuracy: 0.8416\n",
      "Epoch 98/120\n",
      "234/234 [==============================] - 10s 44ms/step - loss: 0.0350 - accuracy: 0.9898 - val_loss: 0.6845 - val_accuracy: 0.8416\n",
      "Epoch 99/120\n",
      "234/234 [==============================] - 10s 44ms/step - loss: 0.0297 - accuracy: 0.9911 - val_loss: 0.6800 - val_accuracy: 0.8397\n",
      "Epoch 100/120\n",
      "234/234 [==============================] - 10s 44ms/step - loss: 0.0336 - accuracy: 0.9919 - val_loss: 0.6879 - val_accuracy: 0.8332\n",
      "Epoch 101/120\n",
      "234/234 [==============================] - 10s 44ms/step - loss: 0.0320 - accuracy: 0.9902 - val_loss: 0.6723 - val_accuracy: 0.8435\n",
      "Epoch 102/120\n",
      "234/234 [==============================] - 10s 45ms/step - loss: 0.0303 - accuracy: 0.9921 - val_loss: 0.7008 - val_accuracy: 0.8449\n",
      "Epoch 103/120\n",
      "234/234 [==============================] - 10s 44ms/step - loss: 0.0303 - accuracy: 0.9913 - val_loss: 0.6450 - val_accuracy: 0.8472\n",
      "Epoch 104/120\n",
      "234/234 [==============================] - 10s 45ms/step - loss: 0.0338 - accuracy: 0.9898 - val_loss: 0.6667 - val_accuracy: 0.8430\n",
      "Epoch 105/120\n",
      "234/234 [==============================] - 10s 44ms/step - loss: 0.0312 - accuracy: 0.9917 - val_loss: 0.6960 - val_accuracy: 0.8407\n",
      "Epoch 106/120\n",
      "234/234 [==============================] - 10s 45ms/step - loss: 0.0315 - accuracy: 0.9900 - val_loss: 0.6633 - val_accuracy: 0.8458\n",
      "Epoch 107/120\n",
      "234/234 [==============================] - 10s 44ms/step - loss: 0.0297 - accuracy: 0.9919 - val_loss: 0.7045 - val_accuracy: 0.8411\n",
      "Epoch 108/120\n",
      "234/234 [==============================] - 11s 45ms/step - loss: 0.0297 - accuracy: 0.9923 - val_loss: 0.7134 - val_accuracy: 0.8393\n",
      "Epoch 109/120\n",
      "234/234 [==============================] - 10s 44ms/step - loss: 0.0279 - accuracy: 0.9927 - val_loss: 0.6952 - val_accuracy: 0.8458\n",
      "Epoch 110/120\n",
      "234/234 [==============================] - 10s 45ms/step - loss: 0.0278 - accuracy: 0.9927 - val_loss: 0.6834 - val_accuracy: 0.8453\n",
      "Epoch 111/120\n",
      "234/234 [==============================] - 10s 44ms/step - loss: 0.0269 - accuracy: 0.9925 - val_loss: 0.7254 - val_accuracy: 0.8332\n",
      "Epoch 112/120\n",
      "234/234 [==============================] - 10s 45ms/step - loss: 0.0246 - accuracy: 0.9928 - val_loss: 0.7503 - val_accuracy: 0.8369\n",
      "Epoch 113/120\n"
     ]
    },
    {
     "name": "stdout",
     "output_type": "stream",
     "text": [
      "234/234 [==============================] - 10s 44ms/step - loss: 0.0265 - accuracy: 0.9936 - val_loss: 0.6929 - val_accuracy: 0.8509\n",
      "Epoch 114/120\n",
      "234/234 [==============================] - 10s 45ms/step - loss: 0.0271 - accuracy: 0.9935 - val_loss: 0.6969 - val_accuracy: 0.8453\n",
      "Epoch 115/120\n",
      "234/234 [==============================] - 10s 44ms/step - loss: 0.0253 - accuracy: 0.9939 - val_loss: 0.7299 - val_accuracy: 0.8416\n",
      "Epoch 116/120\n",
      "234/234 [==============================] - 10s 44ms/step - loss: 0.0244 - accuracy: 0.9941 - val_loss: 0.7233 - val_accuracy: 0.8360\n",
      "Epoch 117/120\n",
      "234/234 [==============================] - 10s 44ms/step - loss: 0.0227 - accuracy: 0.9945 - val_loss: 0.6981 - val_accuracy: 0.8477\n",
      "Epoch 118/120\n",
      "234/234 [==============================] - 10s 44ms/step - loss: 0.0260 - accuracy: 0.9923 - val_loss: 0.7088 - val_accuracy: 0.8435\n",
      "Epoch 119/120\n",
      "234/234 [==============================] - 10s 44ms/step - loss: 0.0276 - accuracy: 0.9925 - val_loss: 0.7332 - val_accuracy: 0.8439\n",
      "Epoch 120/120\n",
      "234/234 [==============================] - 11s 45ms/step - loss: 0.0318 - accuracy: 0.9904 - val_loss: 0.6705 - val_accuracy: 0.8411\n"
     ]
    }
   ],
   "source": [
    "model = classifier.fit_generator(\n",
    "        training_set,\n",
    "        steps_per_epoch=234,\n",
    "        epochs=120,\n",
    "        verbose=1,\n",
    "        validation_data= validation_set,\n",
    "        validation_steps= 67)"
   ]
  },
  {
   "cell_type": "code",
   "execution_count": 16,
   "id": "38463cd6",
   "metadata": {
    "scrolled": false
   },
   "outputs": [
    {
     "name": "stdout",
     "output_type": "stream",
     "text": [
      "Model: \"sequential\"\n",
      "_________________________________________________________________\n",
      " Layer (type)                Output Shape              Param #   \n",
      "=================================================================\n",
      " flatten (Flatten)           (None, 12288)             0         \n",
      "                                                                 \n",
      " dense (Dense)               (None, 512)               6291968   \n",
      "                                                                 \n",
      " dropout (Dropout)           (None, 512)               0         \n",
      "                                                                 \n",
      " dense_1 (Dense)             (None, 512)               262656    \n",
      "                                                                 \n",
      " dropout_1 (Dropout)         (None, 512)               0         \n",
      "                                                                 \n",
      " dense_2 (Dense)             (None, 256)               131328    \n",
      "                                                                 \n",
      " dense_3 (Dense)             (None, 24)                6168      \n",
      "                                                                 \n",
      "=================================================================\n",
      "Total params: 6,692,120\n",
      "Trainable params: 6,692,120\n",
      "Non-trainable params: 0\n",
      "_________________________________________________________________\n",
      "None\n",
      "dict_keys(['loss', 'accuracy', 'val_loss', 'val_accuracy'])\n"
     ]
    }
   ],
   "source": [
    "'''#Saving the model\n",
    "import h5py'''\n",
    "classifier.save('C:/Users/shalm/Desktop/DL2/Handgesture_Final_FCN.h5')\n",
    "\n",
    "print(classifier.summary())\n",
    "\n",
    "print(model.history.keys())"
   ]
  },
  {
   "cell_type": "code",
   "execution_count": 17,
   "id": "ac707705",
   "metadata": {},
   "outputs": [
    {
     "data": {
      "image/png": "[encoded data removed]",
      "text/plain": [
       "<Figure size 640x480 with 1 Axes>"
      ]
     },
     "metadata": {},
     "output_type": "display_data"
    }
   ],
   "source": [
    "import matplotlib.pyplot as plt\n",
    "# summarize history for accuracy\n",
    "plt.plot(model.history['accuracy'], label = \"Train accuarcy\")\n",
    "plt.plot(model.history['val_accuracy'],label = \"Val accuarcy\")\n",
    "plt.title('model accuracy')\n",
    "plt.ylabel('accuracy')\n",
    "plt.xlabel('epoch')\n",
    "plt.legend(['train', 'validation'], loc='upper left')\n",
    "plt.show()"
   ]
  },
  {
   "cell_type": "code",
   "execution_count": 18,
   "id": "fa30c3c1",
   "metadata": {},
   "outputs": [
    {
     "data": {
      "image/png": "[encoded data removed]",
      "text/plain": [
       "<Figure size 640x480 with 1 Axes>"
      ]
     },
     "metadata": {},
     "output_type": "display_data"
    }
   ],
   "source": [
    "# summarize history for loss\n",
    "\n",
    "plt.plot(model.history['loss'])\n",
    "plt.plot(model.history['val_loss'])\n",
    "plt.title('model loss')\n",
    "plt.ylabel('loss')\n",
    "plt.xlabel('epoch')\n",
    "plt.legend(['train', 'validation'], loc='upper left')\n",
    "plt.show()\n"
   ]
  },
  {
   "cell_type": "code",
   "execution_count": 19,
   "id": "c55bf912",
   "metadata": {},
   "outputs": [
    {
     "name": "stdout",
     "output_type": "stream",
     "text": [
      "Found 1069 images belonging to 24 classes.\n"
     ]
    },
    {
     "name": "stderr",
     "output_type": "stream",
     "text": [
      "C:\\Users\\shalm\\AppData\\Local\\Temp\\ipykernel_30596\\1827263304.py:8: UserWarning: `Model.evaluate_generator` is deprecated and will be removed in a future version. Please use `Model.evaluate`, which supports generators.\n",
      "  loss,accuracy = classifier.evaluate_generator(test_set, steps=56)\n"
     ]
    },
    {
     "name": "stdout",
     "output_type": "stream",
     "text": [
      "WARNING:tensorflow:Your input ran out of data; interrupting training. Make sure that your dataset or generator can generate at least `steps_per_epoch * epochs` batches (in this case, 56 batches). You may need to use the repeat() function when building your dataset.\n",
      "Testing accuracy: 0.821328341960907\n"
     ]
    }
   ],
   "source": [
    "# \"Accuracy from test sets\"\n",
    "test_datagen = ImageDataGenerator(rescale=1./255)\n",
    "test_set = test_datagen.flow_from_directory(\n",
    "        'C:/Users/shalm/Desktop/DL2/DatasetFinalPranavAmin/test_set/',\n",
    "        target_size=(64, 64),\n",
    "        batch_size=32,\n",
    "        class_mode='categorical')\n",
    "loss,accuracy = classifier.evaluate_generator(test_set, steps=56)\n",
    "print(\"Testing accuracy:\",accuracy)"
   ]
  },
  {
   "cell_type": "code",
   "execution_count": null,
   "id": "713663a7",
   "metadata": {},
   "outputs": [],
   "source": []
  },
  {
   "cell_type": "code",
   "execution_count": null,
   "id": "3480c137",
   "metadata": {},
   "outputs": [],
   "source": []
  }
 ],
 "metadata": {
  "kernelspec": {
   "display_name": "tensorflow_cpu",
   "language": "python",
   "name": "tensorflow_cpu"
  },
  "language_info": {
   "codemirror_mode": {
    "name": "ipython",
    "version": 3
   },
   "file_extension": ".py",
   "mimetype": "text/x-python",
   "name": "python",
   "nbconvert_exporter": "python",
   "pygments_lexer": "ipython3",
   "version": "3.9.13"
  }
 },
 "nbformat": 4,
 "nbformat_minor": 5
}
