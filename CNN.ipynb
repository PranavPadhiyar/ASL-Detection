{
  "cells": [
    {
      "cell_type": "code",
      "execution_count": 1,
      "metadata": {
        "id": "7bpSVBHpVlHX"
      },
      "outputs": [],
      "source": [
        "# Part 1 - Building the CNN\n",
        "#importing the Keras libraries and packages\n",
        "\n",
        "from keras.models import Sequential\n",
        "from keras.layers import Convolution2D\n",
        "from keras.layers import MaxPooling2D\n",
        "from keras.layers import Flatten\n",
        "from keras.layers import Dense, Dropout\n",
        "from keras import optimizers\n",
        "import tensorflow as tf"
      ]
    },
    {
      "cell_type": "code",
      "execution_count": 2,
      "metadata": {
        "id": "MlLDdLJuXgWc"
      },
      "outputs": [],
      "source": [
        "# Initialing the CNN\n",
        "classifier = Sequential()\n",
        "\n",
        "\n",
        "# Step 1 - Convolution Layer\n",
        "classifier.add(Convolution2D(32, (3,  3), input_shape = (64, 64, 3), activation = 'relu'))\n",
        "classifier.add(Convolution2D(32, (3,  3), input_shape = (64, 64, 3), activation = 'relu'))\n",
        "#step 2 - Pooling\n",
        "classifier.add(MaxPooling2D(pool_size =(2,2)))\n",
        "\n",
        "\n",
        "# Adding second convolution layer\n",
        "classifier.add(Convolution2D(32, (3,  3), padding= 'same',  activation = 'relu'))\n",
        "classifier.add(MaxPooling2D(pool_size =(2,2)))\n",
        "\n",
        "#Adding 3rd Convolution Layer\n",
        "classifier.add(Convolution2D(64, (3,  3), padding= 'same',  activation = 'relu'))\n",
        "classifier.add(MaxPooling2D(pool_size =(2,2)))\n",
        "\n",
        "\n",
        "#Step 3 - Flattening\n",
        "classifier.add(Flatten())\n",
        "\n",
        "#Step 4 - Full Connection\n",
        "classifier.add(Dense(784, activation = 'relu'))\n",
        "classifier.add(Dropout(0.5))\n",
        "classifier.add(Dense(256, activation = 'relu'))\n",
        "classifier.add(Dense(25, activation = 'softmax'))"
      ]
    },
    {
      "cell_type": "code",
      "execution_count": null,
      "metadata": {
        "id": "Lb5SLG_cXkaf"
      },
      "outputs": [],
      "source": [
        "\n"
      ]
    },
    {
      "cell_type": "code",
      "execution_count": null,
      "metadata": {
        "id": "pLEi5OgyXp_P"
      },
      "outputs": [],
      "source": []
    },
    {
      "cell_type": "code",
      "execution_count": 3,
      "metadata": {
        "colab": {
          "base_uri": "https://localhost:8080/"
        },
        "id": "K4jMmS4JXyd9",
        "outputId": "1c11d369-2c3d-4ee9-ae04-ec876682c9b1"
      },
      "outputs": [
        {
          "name": "stderr",
          "output_type": "stream",
          "text": [
            "c:\\Semester 2\\Git\\aasd4011-winter-2023\\tensorflow_cpu\\lib\\site-packages\\keras\\optimizers\\optimizer_v2\\adam.py:117: UserWarning: The `lr` argument is deprecated, use `learning_rate` instead.\n",
            "  super().__init__(name, **kwargs)\n"
          ]
        }
      ],
      "source": [
        "#Compiling The CNN\n",
        "classifier.compile(\n",
        "              optimizer = optimizers.Adam(lr = 0.00001),\n",
        "              loss = 'categorical_crossentropy',\n",
        "              metrics = ['accuracy'])\n",
        "\n",
        "#Part 2 Fittting the CNN to the image\n",
        "from keras.preprocessing.image import ImageDataGenerator\n",
        "train_datagen = ImageDataGenerator(\n",
        "        rescale=1./255,\n",
        "        shear_range=0.2,\n",
        "        zoom_range=0.2)"
      ]
    },
    {
      "cell_type": "code",
      "execution_count": 4,
      "metadata": {
        "colab": {
          "base_uri": "https://localhost:8080/"
        },
        "id": "vBAFd8JjYJCb",
        "outputId": "9b29b140-d18c-4d7b-c181-b549910e7bba"
      },
      "outputs": [
        {
          "name": "stdout",
          "output_type": "stream",
          "text": [
            "Found 7837 images belonging to 25 classes.\n",
            "Found 2240 images belonging to 25 classes.\n"
          ]
        }
      ],
      "source": [
        "test_datagen = ImageDataGenerator(rescale=1./255)\n",
        "\n",
        "training_set = train_datagen.flow_from_directory(\n",
        "        'C:/Users/prana/OneDrive/Desktop/ProjectSign/dataPinkush/data/training_set',\n",
        "        target_size=(64, 64),\n",
        "        batch_size=32,\n",
        "        class_mode='categorical')\n",
        "\n",
        "validation_set = test_datagen.flow_from_directory(\n",
        "        'C:/Users/prana/OneDrive/Desktop/ProjectSign/dataPinkush/data/validation_set',\n",
        "        target_size=(64, 64),\n",
        "        batch_size=32,\n",
        "        class_mode='categorical')"
      ]
    },
    {
      "cell_type": "code",
      "execution_count": 5,
      "metadata": {
        "colab": {
          "base_uri": "https://localhost:8080/"
        },
        "id": "I8wQsGvBi2CO",
        "outputId": "a767ae21-4528-40e2-d231-f49ed1a64ebb"
      },
      "outputs": [
        {
          "name": "stdout",
          "output_type": "stream",
          "text": [
            "Epoch 1/60\n",
            "234/234 [==============================] - 59s 253ms/step - loss: 3.1402 - accuracy: 0.1241 - val_loss: 3.0441 - val_accuracy: 0.1479\n",
            "Epoch 2/60\n",
            "234/234 [==============================] - 29s 122ms/step - loss: 2.6557 - accuracy: 0.3065 - val_loss: 2.3815 - val_accuracy: 0.3619\n",
            "Epoch 3/60\n",
            "234/234 [==============================] - 23s 96ms/step - loss: 1.9455 - accuracy: 0.4700 - val_loss: 1.8018 - val_accuracy: 0.5182\n",
            "Epoch 4/60\n",
            "234/234 [==============================] - 24s 103ms/step - loss: 1.4922 - accuracy: 0.5971 - val_loss: 1.4426 - val_accuracy: 0.6068\n",
            "Epoch 5/60\n",
            "234/234 [==============================] - 26s 109ms/step - loss: 1.1889 - accuracy: 0.6727 - val_loss: 1.1105 - val_accuracy: 0.6796\n",
            "Epoch 6/60\n",
            "234/234 [==============================] - 22s 92ms/step - loss: 0.9238 - accuracy: 0.7330 - val_loss: 0.9248 - val_accuracy: 0.6875\n",
            "Epoch 7/60\n",
            "234/234 [==============================] - 25s 105ms/step - loss: 0.7464 - accuracy: 0.7786 - val_loss: 0.7945 - val_accuracy: 0.7309\n",
            "Epoch 8/60\n",
            "234/234 [==============================] - 25s 105ms/step - loss: 0.6440 - accuracy: 0.8040 - val_loss: 0.6960 - val_accuracy: 0.7985\n",
            "Epoch 9/60\n",
            "234/234 [==============================] - 22s 93ms/step - loss: 0.5448 - accuracy: 0.8361 - val_loss: 0.6616 - val_accuracy: 0.8111\n",
            "Epoch 10/60\n",
            "234/234 [==============================] - 22s 93ms/step - loss: 0.4699 - accuracy: 0.8562 - val_loss: 0.5864 - val_accuracy: 0.8405\n",
            "Epoch 11/60\n",
            "234/234 [==============================] - 22s 92ms/step - loss: 0.4152 - accuracy: 0.8716 - val_loss: 0.5600 - val_accuracy: 0.8615\n",
            "Epoch 12/60\n",
            "234/234 [==============================] - 22s 93ms/step - loss: 0.3701 - accuracy: 0.8839 - val_loss: 0.5367 - val_accuracy: 0.8391\n",
            "Epoch 13/60\n",
            "234/234 [==============================] - 23s 96ms/step - loss: 0.3389 - accuracy: 0.8953 - val_loss: 0.4963 - val_accuracy: 0.8587\n",
            "Epoch 14/60\n",
            "234/234 [==============================] - 22s 95ms/step - loss: 0.3105 - accuracy: 0.9034 - val_loss: 0.4958 - val_accuracy: 0.8605\n",
            "Epoch 15/60\n",
            "234/234 [==============================] - 22s 93ms/step - loss: 0.2699 - accuracy: 0.9172 - val_loss: 0.4612 - val_accuracy: 0.8806\n",
            "Epoch 16/60\n",
            "234/234 [==============================] - 22s 93ms/step - loss: 0.2427 - accuracy: 0.9224 - val_loss: 0.4369 - val_accuracy: 0.8769\n",
            "Epoch 17/60\n",
            "234/234 [==============================] - 22s 93ms/step - loss: 0.2217 - accuracy: 0.9323 - val_loss: 0.4362 - val_accuracy: 0.8778\n",
            "Epoch 18/60\n",
            "234/234 [==============================] - 21s 91ms/step - loss: 0.2042 - accuracy: 0.9405 - val_loss: 0.4450 - val_accuracy: 0.8783\n",
            "Epoch 19/60\n",
            "234/234 [==============================] - 22s 93ms/step - loss: 0.1898 - accuracy: 0.9418 - val_loss: 0.3959 - val_accuracy: 0.8862\n",
            "Epoch 20/60\n",
            "234/234 [==============================] - 22s 93ms/step - loss: 0.1699 - accuracy: 0.9491 - val_loss: 0.3902 - val_accuracy: 0.8904\n",
            "Epoch 21/60\n",
            "234/234 [==============================] - 22s 92ms/step - loss: 0.1508 - accuracy: 0.9524 - val_loss: 0.3966 - val_accuracy: 0.8913\n",
            "Epoch 22/60\n",
            "234/234 [==============================] - 22s 93ms/step - loss: 0.1431 - accuracy: 0.9558 - val_loss: 0.4051 - val_accuracy: 0.8881\n",
            "Epoch 23/60\n",
            "234/234 [==============================] - 22s 93ms/step - loss: 0.1297 - accuracy: 0.9594 - val_loss: 0.4166 - val_accuracy: 0.8857\n",
            "Epoch 24/60\n",
            "234/234 [==============================] - 22s 92ms/step - loss: 0.1268 - accuracy: 0.9627 - val_loss: 0.4140 - val_accuracy: 0.8932\n",
            "Epoch 25/60\n",
            "234/234 [==============================] - 22s 93ms/step - loss: 0.1210 - accuracy: 0.9598 - val_loss: 0.3931 - val_accuracy: 0.8960\n",
            "Epoch 26/60\n",
            "234/234 [==============================] - 22s 93ms/step - loss: 0.0997 - accuracy: 0.9715 - val_loss: 0.3984 - val_accuracy: 0.8946\n",
            "Epoch 27/60\n",
            "234/234 [==============================] - 22s 92ms/step - loss: 0.1054 - accuracy: 0.9670 - val_loss: 0.3917 - val_accuracy: 0.8960\n",
            "Epoch 28/60\n",
            "234/234 [==============================] - 22s 93ms/step - loss: 0.0907 - accuracy: 0.9701 - val_loss: 0.3912 - val_accuracy: 0.8960\n",
            "Epoch 29/60\n",
            "234/234 [==============================] - 22s 92ms/step - loss: 0.0959 - accuracy: 0.9699 - val_loss: 0.3734 - val_accuracy: 0.9044\n",
            "Epoch 30/60\n",
            "234/234 [==============================] - 22s 93ms/step - loss: 0.0890 - accuracy: 0.9718 - val_loss: 0.4020 - val_accuracy: 0.8988\n",
            "Epoch 31/60\n",
            "234/234 [==============================] - 22s 92ms/step - loss: 0.0755 - accuracy: 0.9757 - val_loss: 0.4168 - val_accuracy: 0.8923\n",
            "Epoch 32/60\n",
            "234/234 [==============================] - 22s 92ms/step - loss: 0.0800 - accuracy: 0.9754 - val_loss: 0.3722 - val_accuracy: 0.8997\n",
            "Epoch 33/60\n",
            "234/234 [==============================] - 22s 93ms/step - loss: 0.0749 - accuracy: 0.9764 - val_loss: 0.3843 - val_accuracy: 0.9039\n",
            "Epoch 34/60\n",
            "234/234 [==============================] - 22s 93ms/step - loss: 0.0670 - accuracy: 0.9796 - val_loss: 0.3975 - val_accuracy: 0.9035\n",
            "Epoch 35/60\n",
            "234/234 [==============================] - 22s 94ms/step - loss: 0.0665 - accuracy: 0.9794 - val_loss: 0.3925 - val_accuracy: 0.9016\n",
            "Epoch 36/60\n",
            "234/234 [==============================] - 22s 94ms/step - loss: 0.0666 - accuracy: 0.9804 - val_loss: 0.3775 - val_accuracy: 0.8997\n",
            "Epoch 37/60\n",
            "234/234 [==============================] - 22s 94ms/step - loss: 0.0600 - accuracy: 0.9820 - val_loss: 0.3890 - val_accuracy: 0.9002\n",
            "Epoch 38/60\n",
            "234/234 [==============================] - 22s 94ms/step - loss: 0.0596 - accuracy: 0.9814 - val_loss: 0.3807 - val_accuracy: 0.9002\n",
            "Epoch 39/60\n",
            "234/234 [==============================] - 22s 94ms/step - loss: 0.0513 - accuracy: 0.9845 - val_loss: 0.3559 - val_accuracy: 0.9011\n",
            "Epoch 40/60\n",
            "234/234 [==============================] - 22s 92ms/step - loss: 0.0529 - accuracy: 0.9837 - val_loss: 0.4014 - val_accuracy: 0.9049\n",
            "Epoch 41/60\n",
            "234/234 [==============================] - 22s 92ms/step - loss: 0.0574 - accuracy: 0.9813 - val_loss: 0.3725 - val_accuracy: 0.9030\n",
            "Epoch 42/60\n",
            "234/234 [==============================] - 22s 93ms/step - loss: 0.0473 - accuracy: 0.9852 - val_loss: 0.3804 - val_accuracy: 0.9035\n",
            "Epoch 43/60\n",
            "234/234 [==============================] - 22s 95ms/step - loss: 0.0474 - accuracy: 0.9850 - val_loss: 0.3653 - val_accuracy: 0.9109\n",
            "Epoch 44/60\n",
            "234/234 [==============================] - 22s 92ms/step - loss: 0.0454 - accuracy: 0.9854 - val_loss: 0.3747 - val_accuracy: 0.9053\n",
            "Epoch 45/60\n",
            "234/234 [==============================] - 22s 94ms/step - loss: 0.0439 - accuracy: 0.9850 - val_loss: 0.4320 - val_accuracy: 0.8974\n",
            "Epoch 46/60\n",
            "234/234 [==============================] - 22s 95ms/step - loss: 0.0456 - accuracy: 0.9862 - val_loss: 0.4040 - val_accuracy: 0.8988\n",
            "Epoch 47/60\n",
            "234/234 [==============================] - 22s 92ms/step - loss: 0.0437 - accuracy: 0.9874 - val_loss: 0.3928 - val_accuracy: 0.9039\n",
            "Epoch 48/60\n",
            "234/234 [==============================] - 22s 93ms/step - loss: 0.0391 - accuracy: 0.9888 - val_loss: 0.4015 - val_accuracy: 0.9109\n",
            "Epoch 49/60\n",
            "234/234 [==============================] - 22s 95ms/step - loss: 0.0359 - accuracy: 0.9890 - val_loss: 0.4241 - val_accuracy: 0.9090\n",
            "Epoch 50/60\n",
            "234/234 [==============================] - 22s 93ms/step - loss: 0.0372 - accuracy: 0.9884 - val_loss: 0.3956 - val_accuracy: 0.9118\n",
            "Epoch 51/60\n",
            "234/234 [==============================] - 22s 95ms/step - loss: 0.0338 - accuracy: 0.9898 - val_loss: 0.3836 - val_accuracy: 0.9090\n",
            "Epoch 52/60\n",
            "234/234 [==============================] - 22s 92ms/step - loss: 0.0313 - accuracy: 0.9905 - val_loss: 0.4051 - val_accuracy: 0.9053\n",
            "Epoch 53/60\n",
            "234/234 [==============================] - 22s 95ms/step - loss: 0.0395 - accuracy: 0.9880 - val_loss: 0.3873 - val_accuracy: 0.9118\n",
            "Epoch 54/60\n",
            "234/234 [==============================] - 22s 94ms/step - loss: 0.0289 - accuracy: 0.9912 - val_loss: 0.3882 - val_accuracy: 0.9170\n",
            "Epoch 55/60\n",
            "234/234 [==============================] - 28s 121ms/step - loss: 0.0313 - accuracy: 0.9908 - val_loss: 0.3760 - val_accuracy: 0.9123\n",
            "Epoch 56/60\n",
            "234/234 [==============================] - 31s 134ms/step - loss: 0.0276 - accuracy: 0.9916 - val_loss: 0.3761 - val_accuracy: 0.9123\n",
            "Epoch 57/60\n",
            "234/234 [==============================] - 31s 133ms/step - loss: 0.0286 - accuracy: 0.9919 - val_loss: 0.3888 - val_accuracy: 0.9104\n",
            "Epoch 58/60\n",
            "234/234 [==============================] - 27s 116ms/step - loss: 0.0243 - accuracy: 0.9929 - val_loss: 0.4276 - val_accuracy: 0.9104\n",
            "Epoch 59/60\n",
            "234/234 [==============================] - 24s 104ms/step - loss: 0.0287 - accuracy: 0.9901 - val_loss: 0.4304 - val_accuracy: 0.9090\n",
            "Epoch 60/60\n",
            "234/234 [==============================] - 24s 104ms/step - loss: 0.0278 - accuracy: 0.9912 - val_loss: 0.4362 - val_accuracy: 0.9053\n",
            "Model: \"sequential\"\n",
            "_________________________________________________________________\n",
            " Layer (type)                Output Shape              Param #   \n",
            "=================================================================\n",
            " conv2d (Conv2D)             (None, 62, 62, 32)        896       \n",
            "                                                                 \n",
            " conv2d_1 (Conv2D)           (None, 60, 60, 32)        9248      \n",
            "                                                                 \n",
            " max_pooling2d (MaxPooling2D  (None, 30, 30, 32)       0         \n",
            " )                                                               \n",
            "                                                                 \n",
            " conv2d_2 (Conv2D)           (None, 30, 30, 32)        9248      \n",
            "                                                                 \n",
            " max_pooling2d_1 (MaxPooling  (None, 15, 15, 32)       0         \n",
            " 2D)                                                             \n",
            "                                                                 \n",
            " conv2d_3 (Conv2D)           (None, 15, 15, 64)        18496     \n",
            "                                                                 \n",
            " max_pooling2d_2 (MaxPooling  (None, 7, 7, 64)         0         \n",
            " 2D)                                                             \n",
            "                                                                 \n",
            " flatten (Flatten)           (None, 3136)              0         \n",
            "                                                                 \n",
            " dense (Dense)               (None, 784)               2459408   \n",
            "                                                                 \n",
            " dropout (Dropout)           (None, 784)               0         \n",
            "                                                                 \n",
            " dense_1 (Dense)             (None, 256)               200960    \n",
            "                                                                 \n",
            " dense_2 (Dense)             (None, 25)                6425      \n",
            "                                                                 \n",
            "=================================================================\n",
            "Total params: 2,704,681\n",
            "Trainable params: 2,704,681\n",
            "Non-trainable params: 0\n",
            "_________________________________________________________________\n",
            "None\n"
          ]
        }
      ],
      "source": [
        "\n",
        "model = classifier.fit(\n",
        "        training_set,\n",
        "        steps_per_epoch=234,\n",
        "        epochs=60,\n",
        "        verbose=1,\n",
        "        validation_data= validation_set,\n",
        "        validation_steps=67)\n",
        "\n",
        "print(classifier.summary())\n",
        "'''#Saving the model\n",
        "import h5py'''\n",
        "classifier.save('C:/Users/prana/OneDrive/Desktop/ProjectSign/Handgesture_Final_CNN_d_31_march_alphabet.h5')"
      ]
    },
    {
      "cell_type": "code",
      "execution_count": 6,
      "metadata": {},
      "outputs": [
        {
          "name": "stdout",
          "output_type": "stream",
          "text": [
            "Model: \"sequential\"\n",
            "_________________________________________________________________\n",
            " Layer (type)                Output Shape              Param #   \n",
            "=================================================================\n",
            " conv2d (Conv2D)             (None, 62, 62, 32)        896       \n",
            "                                                                 \n",
            " conv2d_1 (Conv2D)           (None, 60, 60, 32)        9248      \n",
            "                                                                 \n",
            " max_pooling2d (MaxPooling2D  (None, 30, 30, 32)       0         \n",
            " )                                                               \n",
            "                                                                 \n",
            " conv2d_2 (Conv2D)           (None, 30, 30, 32)        9248      \n",
            "                                                                 \n",
            " max_pooling2d_1 (MaxPooling  (None, 15, 15, 32)       0         \n",
            " 2D)                                                             \n",
            "                                                                 \n",
            " conv2d_3 (Conv2D)           (None, 15, 15, 64)        18496     \n",
            "                                                                 \n",
            " max_pooling2d_2 (MaxPooling  (None, 7, 7, 64)         0         \n",
            " 2D)                                                             \n",
            "                                                                 \n",
            " flatten (Flatten)           (None, 3136)              0         \n",
            "                                                                 \n",
            " dense (Dense)               (None, 784)               2459408   \n",
            "                                                                 \n",
            " dropout (Dropout)           (None, 784)               0         \n",
            "                                                                 \n",
            " dense_1 (Dense)             (None, 256)               200960    \n",
            "                                                                 \n",
            " dense_2 (Dense)             (None, 25)                6425      \n",
            "                                                                 \n",
            "=================================================================\n",
            "Total params: 2,704,681\n",
            "Trainable params: 2,704,681\n",
            "Non-trainable params: 0\n",
            "_________________________________________________________________\n",
            "None\n"
          ]
        }
      ],
      "source": [
        "print(classifier.summary())"
      ]
    },
    {
      "cell_type": "code",
      "execution_count": 7,
      "metadata": {
        "colab": {
          "base_uri": "https://localhost:8080/"
        },
        "id": "LEzVQLJ4jD4m",
        "outputId": "927f07bf-b20d-4902-b6e9-06756a29d624"
      },
      "outputs": [
        {
          "name": "stdout",
          "output_type": "stream",
          "text": [
            "dict_keys(['loss', 'accuracy', 'val_loss', 'val_accuracy'])\n"
          ]
        }
      ],
      "source": [
        "print(model.history.keys())"
      ]
    },
    {
      "cell_type": "code",
      "execution_count": 8,
      "metadata": {
        "colab": {
          "base_uri": "https://localhost:8080/",
          "height": 573
        },
        "id": "CwnnkDWRtdsW",
        "outputId": "f75e8cb0-87c9-43e7-9efe-aee08c9db0a1"
      },
      "outputs": [
        {
          "data": {
            "image/png": "[encoded data removed]",
            "text/plain": [
              "<Figure size 640x480 with 1 Axes>"
            ]
          },
          "metadata": {},
          "output_type": "display_data"
        },
        {
          "data": {
            "image/png": "[encoded data removed]",
            "text/plain": [
              "<Figure size 640x480 with 1 Axes>"
            ]
          },
          "metadata": {},
          "output_type": "display_data"
        }
      ],
      "source": [
        "import matplotlib.pyplot as plt\n",
        "# summarize history for accuracy\n",
        "plt.plot(model.history['accuracy'], label = \"Train accuarcy\")\n",
        "plt.plot(model.history['val_accuracy'],label = \"Val accuarcy\")\n",
        "plt.title('model accuracy')\n",
        "plt.ylabel('accuracy')\n",
        "plt.xlabel('epoch')\n",
        "plt.legend(['Train', 'Validation'], loc='upper left')\n",
        "plt.show()\n",
        "# summarize history for loss\n",
        "\n",
        "plt.plot(model.history['loss'])\n",
        "plt.plot(model.history['val_loss'])\n",
        "plt.title('model loss')\n",
        "plt.ylabel('loss')\n",
        "plt.xlabel('epoch')\n",
        "plt.legend(['Train', 'Validation'], loc='upper left')\n",
        "plt.show()"
      ]
    },
    {
      "cell_type": "code",
      "execution_count": 9,
      "metadata": {
        "colab": {
          "base_uri": "https://localhost:8080/"
        },
        "id": "eQlDL_bJtj6j",
        "outputId": "175bb642-00da-4611-ef81-260f06a1c990"
      },
      "outputs": [
        {
          "name": "stdout",
          "output_type": "stream",
          "text": [
            "Found 1119 images belonging to 25 classes.\n"
          ]
        },
        {
          "name": "stderr",
          "output_type": "stream",
          "text": [
            "C:\\Users\\prana\\AppData\\Local\\Temp\\ipykernel_5580\\1470623383.py:8: UserWarning: `Model.evaluate_generator` is deprecated and will be removed in a future version. Please use `Model.evaluate`, which supports generators.\n",
            "  loss,accuracy = classifier.evaluate_generator(test_set, steps=56)\n"
          ]
        },
        {
          "name": "stdout",
          "output_type": "stream",
          "text": [
            "WARNING:tensorflow:Your input ran out of data; interrupting training. Make sure that your dataset or generator can generate at least `steps_per_epoch * epochs` batches (in this case, 56 batches). You may need to use the repeat() function when building your dataset.\n",
            "Testing accuracy: 0.8847184777259827\n"
          ]
        }
      ],
      "source": [
        "# \"Accuracy from test sets\"\n",
        "test_datagen = ImageDataGenerator(rescale=1./255)\n",
        "test_set = test_datagen.flow_from_directory(\n",
        "        'C:/Users/prana/OneDrive/Desktop/ProjectSign/dataPinkush/data/test_set',\n",
        "        target_size=(64, 64),\n",
        "        batch_size=32,\n",
        "        class_mode='categorical')\n",
        "loss,accuracy = classifier.evaluate_generator(test_set, steps=56)\n",
        "print(\"Testing accuracy:\",accuracy)"
      ]
    },
    {
      "cell_type": "code",
      "execution_count": null,
      "metadata": {
        "id": "i7JcPJOctsf1"
      },
      "outputs": [],
      "source": []
    },
    {
      "cell_type": "code",
      "execution_count": 10,
      "metadata": {},
      "outputs": [],
      "source": [
        "\n",
        "# Initialing the CNN\n",
        "classifier2 = Sequential()\n",
        "\n",
        "# Step 1 - Convolution Layer\n",
        "classifier2.add(Convolution2D(32, (3,  3), input_shape = (64, 64, 3), activation = 'relu'))\n",
        "classifier2.add(Convolution2D(32, (3,  3), input_shape = (64, 64, 3), activation = 'relu'))\n",
        "#step 2 - Pooling\n",
        "classifier2.add(MaxPooling2D(pool_size =(2,2)))\n",
        "\n",
        "\n",
        "# Adding second convolution layer\n",
        "classifier2.add(Convolution2D(64, (3,  3), padding= 'same',  activation = 'relu'))\n",
        "classifier2.add(Convolution2D(64, (3,  3), padding= 'same',  activation = 'relu'))\n",
        "Dropout(0.5)\n",
        "classifier2.add(MaxPooling2D(pool_size =(2,2)))\n",
        "\n",
        "\n",
        "#Adding 3rd Convolution Layer\n",
        "classifier2.add(Convolution2D(128, (3,  3), padding= 'same',  activation = 'relu'))\n",
        "classifier2.add(Convolution2D(128, (3,  3), padding= 'same',  activation = 'relu'))\n",
        "Dropout(0.5)\n",
        "classifier2.add(MaxPooling2D(pool_size =(2,2)))\n",
        "\n",
        "\n",
        "classifier2.add(Convolution2D(256, (3,  3), padding= 'same',  activation = 'relu'))\n",
        "classifier2.add(Convolution2D(256, (3,  3), padding= 'same',  activation = 'relu'))\n",
        "\n",
        "#Step 3 - Flattening\n",
        "classifier2.add(Flatten())\n",
        "\n",
        "#Step 4 - Full Connection\n",
        "classifier2.add(Dense(784, activation = 'relu'))\n",
        "classifier2.add(Dropout(0.5))\n",
        "classifier2.add(Dense(256, activation = 'relu'))\n",
        "classifier2.add(Dense(25, activation = 'softmax'))"
      ]
    },
    {
      "cell_type": "code",
      "execution_count": 11,
      "metadata": {},
      "outputs": [
        {
          "name": "stderr",
          "output_type": "stream",
          "text": [
            "c:\\Semester 2\\Git\\aasd4011-winter-2023\\tensorflow_cpu\\lib\\site-packages\\keras\\optimizers\\optimizer_v2\\adam.py:117: UserWarning: The `lr` argument is deprecated, use `learning_rate` instead.\n",
            "  super().__init__(name, **kwargs)\n"
          ]
        }
      ],
      "source": [
        "#Compiling The CNN\n",
        "classifier2.compile(\n",
        "              optimizer = optimizers.Adam(lr = 0.00001),\n",
        "              loss = 'categorical_crossentropy',\n",
        "              metrics = ['accuracy'])\n",
        "\n",
        "#Part 2 Fittting the CNN to the image\n",
        "from keras.preprocessing.image import ImageDataGenerator\n",
        "train_datagen = ImageDataGenerator(\n",
        "        rescale=1./255,\n",
        "        shear_range=0.2,\n",
        "        zoom_range=0.2)"
      ]
    },
    {
      "cell_type": "code",
      "execution_count": 12,
      "metadata": {},
      "outputs": [
        {
          "name": "stdout",
          "output_type": "stream",
          "text": [
            "Found 7837 images belonging to 25 classes.\n",
            "Found 2240 images belonging to 25 classes.\n"
          ]
        }
      ],
      "source": [
        "test_datagen = ImageDataGenerator(rescale=1./255)\n",
        "\n",
        "training_set = train_datagen.flow_from_directory(\n",
        "        'C:/Users/prana/OneDrive/Desktop/ProjectSign/dataPinkush/data/training_set',\n",
        "        target_size=(64, 64),\n",
        "        batch_size=32,\n",
        "        class_mode='categorical')\n",
        "\n",
        "validation_set = test_datagen.flow_from_directory(\n",
        "        'C:/Users/prana/OneDrive/Desktop/ProjectSign/dataPinkush/data/validation_set',\n",
        "        target_size=(64, 64),\n",
        "        batch_size=32,\n",
        "        class_mode='categorical')"
      ]
    },
    {
      "cell_type": "code",
      "execution_count": 13,
      "metadata": {},
      "outputs": [
        {
          "name": "stdout",
          "output_type": "stream",
          "text": [
            "Epoch 1/60\n",
            "234/234 [==============================] - 54s 229ms/step - loss: 2.9400 - accuracy: 0.1574 - val_loss: 2.1913 - val_accuracy: 0.4062\n",
            "Epoch 2/60\n",
            "234/234 [==============================] - 53s 228ms/step - loss: 1.6565 - accuracy: 0.5173 - val_loss: 1.2496 - val_accuracy: 0.6381\n",
            "Epoch 3/60\n",
            "234/234 [==============================] - 62s 265ms/step - loss: 0.9807 - accuracy: 0.6890 - val_loss: 0.7683 - val_accuracy: 0.7654\n",
            "Epoch 4/60\n",
            "234/234 [==============================] - 70s 300ms/step - loss: 0.6573 - accuracy: 0.7874 - val_loss: 0.6041 - val_accuracy: 0.8176\n",
            "Epoch 5/60\n",
            "234/234 [==============================] - 72s 309ms/step - loss: 0.4742 - accuracy: 0.8461 - val_loss: 0.5018 - val_accuracy: 0.8554\n",
            "Epoch 6/60\n",
            "234/234 [==============================] - 68s 291ms/step - loss: 0.3728 - accuracy: 0.8771 - val_loss: 0.4504 - val_accuracy: 0.8825\n",
            "Epoch 7/60\n",
            "234/234 [==============================] - 54s 230ms/step - loss: 0.2825 - accuracy: 0.9093 - val_loss: 0.4925 - val_accuracy: 0.8713\n",
            "Epoch 8/60\n",
            "234/234 [==============================] - 53s 226ms/step - loss: 0.2341 - accuracy: 0.9255 - val_loss: 0.3959 - val_accuracy: 0.8969\n",
            "Epoch 9/60\n",
            "234/234 [==============================] - 71s 303ms/step - loss: 0.1972 - accuracy: 0.9348 - val_loss: 0.4066 - val_accuracy: 0.8876\n",
            "Epoch 10/60\n",
            "234/234 [==============================] - 74s 316ms/step - loss: 0.1577 - accuracy: 0.9518 - val_loss: 0.3627 - val_accuracy: 0.9076\n",
            "Epoch 11/60\n",
            "234/234 [==============================] - 61s 261ms/step - loss: 0.1469 - accuracy: 0.9522 - val_loss: 0.3871 - val_accuracy: 0.8941\n",
            "Epoch 12/60\n",
            "234/234 [==============================] - 55s 233ms/step - loss: 0.1195 - accuracy: 0.9610 - val_loss: 0.3231 - val_accuracy: 0.9165\n",
            "Epoch 13/60\n",
            "234/234 [==============================] - 45s 193ms/step - loss: 0.1103 - accuracy: 0.9638 - val_loss: 0.3539 - val_accuracy: 0.9132\n",
            "Epoch 14/60\n",
            "234/234 [==============================] - 35s 149ms/step - loss: 0.1073 - accuracy: 0.9642 - val_loss: 0.3413 - val_accuracy: 0.9076\n",
            "Epoch 15/60\n",
            "234/234 [==============================] - 36s 152ms/step - loss: 0.0895 - accuracy: 0.9706 - val_loss: 0.3768 - val_accuracy: 0.9095\n",
            "Epoch 16/60\n",
            "234/234 [==============================] - 35s 150ms/step - loss: 0.0830 - accuracy: 0.9715 - val_loss: 0.3070 - val_accuracy: 0.9244\n",
            "Epoch 17/60\n",
            "234/234 [==============================] - 35s 151ms/step - loss: 0.0743 - accuracy: 0.9768 - val_loss: 0.3616 - val_accuracy: 0.9090\n",
            "Epoch 18/60\n",
            "234/234 [==============================] - 35s 151ms/step - loss: 0.0647 - accuracy: 0.9790 - val_loss: 0.3017 - val_accuracy: 0.9272\n",
            "Epoch 19/60\n",
            "234/234 [==============================] - 35s 151ms/step - loss: 0.0586 - accuracy: 0.9818 - val_loss: 0.3911 - val_accuracy: 0.9090\n",
            "Epoch 20/60\n",
            "234/234 [==============================] - 35s 151ms/step - loss: 0.0559 - accuracy: 0.9821 - val_loss: 0.3539 - val_accuracy: 0.9151\n",
            "Epoch 21/60\n",
            "234/234 [==============================] - 35s 150ms/step - loss: 0.0469 - accuracy: 0.9860 - val_loss: 0.4360 - val_accuracy: 0.8974\n",
            "Epoch 22/60\n",
            "234/234 [==============================] - 35s 151ms/step - loss: 0.0524 - accuracy: 0.9837 - val_loss: 0.4320 - val_accuracy: 0.9086\n",
            "Epoch 23/60\n",
            "234/234 [==============================] - 35s 151ms/step - loss: 0.0421 - accuracy: 0.9881 - val_loss: 0.3551 - val_accuracy: 0.9207\n",
            "Epoch 24/60\n",
            "234/234 [==============================] - 35s 151ms/step - loss: 0.0433 - accuracy: 0.9838 - val_loss: 0.3407 - val_accuracy: 0.9212\n",
            "Epoch 25/60\n",
            "234/234 [==============================] - 35s 151ms/step - loss: 0.0404 - accuracy: 0.9861 - val_loss: 0.2766 - val_accuracy: 0.9356\n",
            "Epoch 26/60\n",
            "234/234 [==============================] - 35s 151ms/step - loss: 0.0347 - accuracy: 0.9884 - val_loss: 0.3741 - val_accuracy: 0.9146\n",
            "Epoch 27/60\n",
            "234/234 [==============================] - 35s 151ms/step - loss: 0.0407 - accuracy: 0.9860 - val_loss: 0.3078 - val_accuracy: 0.9212\n",
            "Epoch 28/60\n",
            "234/234 [==============================] - 36s 153ms/step - loss: 0.0356 - accuracy: 0.9885 - val_loss: 0.2950 - val_accuracy: 0.9370\n",
            "Epoch 29/60\n",
            "234/234 [==============================] - 36s 155ms/step - loss: 0.0352 - accuracy: 0.9870 - val_loss: 0.3401 - val_accuracy: 0.9291\n",
            "Epoch 30/60\n",
            "234/234 [==============================] - 37s 156ms/step - loss: 0.0320 - accuracy: 0.9909 - val_loss: 0.3531 - val_accuracy: 0.9198\n",
            "Epoch 31/60\n",
            "234/234 [==============================] - 36s 154ms/step - loss: 0.0326 - accuracy: 0.9886 - val_loss: 0.3506 - val_accuracy: 0.9235\n",
            "Epoch 32/60\n",
            "234/234 [==============================] - 36s 154ms/step - loss: 0.0291 - accuracy: 0.9907 - val_loss: 0.2937 - val_accuracy: 0.9380\n",
            "Epoch 33/60\n",
            "234/234 [==============================] - 36s 154ms/step - loss: 0.0229 - accuracy: 0.9939 - val_loss: 0.3492 - val_accuracy: 0.9207\n",
            "Epoch 34/60\n",
            "234/234 [==============================] - 36s 154ms/step - loss: 0.0244 - accuracy: 0.9925 - val_loss: 0.2932 - val_accuracy: 0.9319\n",
            "Epoch 35/60\n",
            "234/234 [==============================] - 36s 154ms/step - loss: 0.0265 - accuracy: 0.9917 - val_loss: 0.3827 - val_accuracy: 0.9216\n",
            "Epoch 36/60\n",
            "234/234 [==============================] - 36s 155ms/step - loss: 0.0254 - accuracy: 0.9919 - val_loss: 0.3678 - val_accuracy: 0.9170\n",
            "Epoch 37/60\n",
            "234/234 [==============================] - 36s 154ms/step - loss: 0.0247 - accuracy: 0.9931 - val_loss: 0.3507 - val_accuracy: 0.9263\n",
            "Epoch 38/60\n",
            "234/234 [==============================] - 36s 154ms/step - loss: 0.0240 - accuracy: 0.9923 - val_loss: 0.3243 - val_accuracy: 0.9324\n",
            "Epoch 39/60\n",
            "234/234 [==============================] - 36s 154ms/step - loss: 0.0191 - accuracy: 0.9948 - val_loss: 0.3775 - val_accuracy: 0.9160\n",
            "Epoch 40/60\n",
            "234/234 [==============================] - 36s 154ms/step - loss: 0.0190 - accuracy: 0.9937 - val_loss: 0.3454 - val_accuracy: 0.9342\n",
            "Epoch 41/60\n",
            "234/234 [==============================] - 36s 154ms/step - loss: 0.0212 - accuracy: 0.9941 - val_loss: 0.3054 - val_accuracy: 0.9384\n",
            "Epoch 42/60\n",
            "234/234 [==============================] - 36s 155ms/step - loss: 0.0127 - accuracy: 0.9957 - val_loss: 0.3138 - val_accuracy: 0.9347\n",
            "Epoch 43/60\n",
            "234/234 [==============================] - 35s 150ms/step - loss: 0.0178 - accuracy: 0.9945 - val_loss: 0.3197 - val_accuracy: 0.9370\n",
            "Epoch 44/60\n",
            "234/234 [==============================] - 36s 152ms/step - loss: 0.0186 - accuracy: 0.9929 - val_loss: 0.3116 - val_accuracy: 0.9356\n",
            "Epoch 45/60\n",
            "234/234 [==============================] - 36s 152ms/step - loss: 0.0261 - accuracy: 0.9906 - val_loss: 0.3484 - val_accuracy: 0.9324\n",
            "Epoch 46/60\n",
            "234/234 [==============================] - 35s 151ms/step - loss: 0.0179 - accuracy: 0.9943 - val_loss: 0.3145 - val_accuracy: 0.9356\n",
            "Epoch 47/60\n",
            "234/234 [==============================] - 35s 151ms/step - loss: 0.0163 - accuracy: 0.9944 - val_loss: 0.2967 - val_accuracy: 0.9426\n",
            "Epoch 48/60\n",
            "234/234 [==============================] - 35s 151ms/step - loss: 0.0145 - accuracy: 0.9948 - val_loss: 0.3471 - val_accuracy: 0.9319\n",
            "Epoch 49/60\n",
            "234/234 [==============================] - 35s 151ms/step - loss: 0.0098 - accuracy: 0.9965 - val_loss: 0.3060 - val_accuracy: 0.9375\n",
            "Epoch 50/60\n",
            "234/234 [==============================] - 35s 151ms/step - loss: 0.0111 - accuracy: 0.9965 - val_loss: 0.3448 - val_accuracy: 0.9389\n",
            "Epoch 51/60\n",
            "234/234 [==============================] - 35s 151ms/step - loss: 0.0154 - accuracy: 0.9955 - val_loss: 0.3452 - val_accuracy: 0.9286\n",
            "Epoch 52/60\n",
            "234/234 [==============================] - 35s 151ms/step - loss: 0.0121 - accuracy: 0.9961 - val_loss: 0.3283 - val_accuracy: 0.9356\n",
            "Epoch 53/60\n",
            "234/234 [==============================] - 35s 151ms/step - loss: 0.0111 - accuracy: 0.9960 - val_loss: 0.3955 - val_accuracy: 0.9338\n",
            "Epoch 54/60\n",
            "234/234 [==============================] - 35s 151ms/step - loss: 0.0114 - accuracy: 0.9968 - val_loss: 0.4371 - val_accuracy: 0.9291\n",
            "Epoch 55/60\n",
            "234/234 [==============================] - 35s 151ms/step - loss: 0.0095 - accuracy: 0.9977 - val_loss: 0.3277 - val_accuracy: 0.9384\n",
            "Epoch 56/60\n",
            "234/234 [==============================] - 35s 151ms/step - loss: 0.0169 - accuracy: 0.9941 - val_loss: 0.4043 - val_accuracy: 0.9254\n",
            "Epoch 57/60\n",
            "234/234 [==============================] - 35s 151ms/step - loss: 0.0127 - accuracy: 0.9968 - val_loss: 0.3425 - val_accuracy: 0.9342\n",
            "Epoch 58/60\n",
            "234/234 [==============================] - 35s 152ms/step - loss: 0.0072 - accuracy: 0.9973 - val_loss: 0.3467 - val_accuracy: 0.9356\n",
            "Epoch 59/60\n",
            "234/234 [==============================] - 35s 151ms/step - loss: 0.0076 - accuracy: 0.9981 - val_loss: 0.4025 - val_accuracy: 0.9310\n",
            "Epoch 60/60\n",
            "234/234 [==============================] - 36s 152ms/step - loss: 0.0135 - accuracy: 0.9963 - val_loss: 0.3950 - val_accuracy: 0.9193\n"
          ]
        }
      ],
      "source": [
        "model2 = classifier2.fit(\n",
        "        training_set,\n",
        "        steps_per_epoch=234,\n",
        "        epochs=60,\n",
        "        verbose=1,\n",
        "        validation_data= validation_set,\n",
        "        validation_steps=67)\n"
      ]
    },
    {
      "cell_type": "code",
      "execution_count": 14,
      "metadata": {},
      "outputs": [
        {
          "name": "stdout",
          "output_type": "stream",
          "text": [
            "Model: \"sequential_1\"\n",
            "_________________________________________________________________\n",
            " Layer (type)                Output Shape              Param #   \n",
            "=================================================================\n",
            " conv2d_4 (Conv2D)           (None, 62, 62, 32)        896       \n",
            "                                                                 \n",
            " conv2d_5 (Conv2D)           (None, 60, 60, 32)        9248      \n",
            "                                                                 \n",
            " max_pooling2d_3 (MaxPooling  (None, 30, 30, 32)       0         \n",
            " 2D)                                                             \n",
            "                                                                 \n",
            " conv2d_6 (Conv2D)           (None, 30, 30, 64)        18496     \n",
            "                                                                 \n",
            " conv2d_7 (Conv2D)           (None, 30, 30, 64)        36928     \n",
            "                                                                 \n",
            " max_pooling2d_4 (MaxPooling  (None, 15, 15, 64)       0         \n",
            " 2D)                                                             \n",
            "                                                                 \n",
            " conv2d_8 (Conv2D)           (None, 15, 15, 128)       73856     \n",
            "                                                                 \n",
            " conv2d_9 (Conv2D)           (None, 15, 15, 128)       147584    \n",
            "                                                                 \n",
            " max_pooling2d_5 (MaxPooling  (None, 7, 7, 128)        0         \n",
            " 2D)                                                             \n",
            "                                                                 \n",
            " conv2d_10 (Conv2D)          (None, 7, 7, 256)         295168    \n",
            "                                                                 \n",
            " conv2d_11 (Conv2D)          (None, 7, 7, 256)         590080    \n",
            "                                                                 \n",
            " flatten_1 (Flatten)         (None, 12544)             0         \n",
            "                                                                 \n",
            " dense_3 (Dense)             (None, 784)               9835280   \n",
            "                                                                 \n",
            " dropout_3 (Dropout)         (None, 784)               0         \n",
            "                                                                 \n",
            " dense_4 (Dense)             (None, 256)               200960    \n",
            "                                                                 \n",
            " dense_5 (Dense)             (None, 25)                6425      \n",
            "                                                                 \n",
            "=================================================================\n",
            "Total params: 11,214,921\n",
            "Trainable params: 11,214,921\n",
            "Non-trainable params: 0\n",
            "_________________________________________________________________\n",
            "None\n"
          ]
        }
      ],
      "source": [
        "print(classifier2.summary())\n",
        "'''#Saving the model\n",
        "import h5py'''\n",
        "classifier2.save('C:/Users/prana/OneDrive/Desktop/ProjectSign/Handgesture_Final_CNN_d_31_march_alphabet_2.h5')"
      ]
    },
    {
      "cell_type": "code",
      "execution_count": 15,
      "metadata": {},
      "outputs": [
        {
          "name": "stdout",
          "output_type": "stream",
          "text": [
            "dict_keys(['loss', 'accuracy', 'val_loss', 'val_accuracy'])\n"
          ]
        }
      ],
      "source": [
        "print(model2.history.keys())"
      ]
    },
    {
      "cell_type": "code",
      "execution_count": 16,
      "metadata": {},
      "outputs": [
        {
          "data": {
            "image/png": "[encoded data removed]",
            "text/plain": [
              "<Figure size 640x480 with 1 Axes>"
            ]
          },
          "metadata": {},
          "output_type": "display_data"
        },
        {
          "data": {
            "image/png": "[encoded data removed]",
            "text/plain": [
              "<Figure size 640x480 with 1 Axes>"
            ]
          },
          "metadata": {},
          "output_type": "display_data"
        }
      ],
      "source": [
        "import matplotlib.pyplot as plt\n",
        "# summarize history for accuracy\n",
        "plt.plot(model2.history['accuracy'], label = \"Train accuarcy\")\n",
        "plt.plot(model2.history['val_accuracy'],label = \"Val accuarcy\")\n",
        "plt.title('model accuracy')\n",
        "plt.ylabel('accuracy')\n",
        "plt.xlabel('epoch')\n",
        "plt.legend(['Train', 'Validation'], loc='upper left')\n",
        "plt.show()\n",
        "# summarize history for loss\n",
        "\n",
        "plt.plot(model2.history['loss'])\n",
        "plt.plot(model2.history['val_loss'])\n",
        "plt.title('model loss')\n",
        "plt.ylabel('loss')\n",
        "plt.xlabel('epoch')\n",
        "plt.legend(['Train', 'Validation'], loc='upper left')\n",
        "plt.show()"
      ]
    },
    {
      "cell_type": "code",
      "execution_count": 18,
      "metadata": {},
      "outputs": [
        {
          "name": "stdout",
          "output_type": "stream",
          "text": [
            "Found 1119 images belonging to 25 classes.\n",
            "35/56 [=================>............] - ETA: 0s - loss: 1.0341 - accuracy: 0.8785WARNING:tensorflow:Your input ran out of data; interrupting training. Make sure that your dataset or generator can generate at least `steps_per_epoch * epochs` batches (in this case, 56 batches). You may need to use the repeat() function when building your dataset.\n",
            "56/56 [==============================] - 1s 23ms/step - loss: 1.0341 - accuracy: 0.8785\n",
            "Testing accuracy: 0.8784629106521606\n"
          ]
        }
      ],
      "source": [
        "# \"Accuracy from test sets\"\n",
        "test_datagen = ImageDataGenerator(rescale=1./255)\n",
        "test_set = test_datagen.flow_from_directory(\n",
        "        'C:/Users/prana/OneDrive/Desktop/ProjectSign/dataPinkush/data/test_set',\n",
        "        target_size=(64, 64),\n",
        "        batch_size=32,\n",
        "        class_mode='categorical')\n",
        "loss,accuracy = classifier2.evaluate(test_set, steps=56)\n",
        "print(\"Testing accuracy:\",accuracy)"
      ]
    },
    {
      "cell_type": "code",
      "execution_count": null,
      "metadata": {},
      "outputs": [],
      "source": []
    }
  ],
  "metadata": {
    "accelerator": "GPU",
    "colab": {
      "provenance": []
    },
    "gpuClass": "standard",
    "kernelspec": {
      "display_name": "tensorflow_cpu",
      "language": "python",
      "name": "tensorflow_cpu"
    },
    "language_info": {
      "codemirror_mode": {
        "name": "ipython",
        "version": 3
      },
      "file_extension": ".py",
      "mimetype": "text/x-python",
      "name": "python",
      "nbconvert_exporter": "python",
      "pygments_lexer": "ipython3",
      "version": "3.8.2"
    }
  },
  "nbformat": 4,
  "nbformat_minor": 0
}
